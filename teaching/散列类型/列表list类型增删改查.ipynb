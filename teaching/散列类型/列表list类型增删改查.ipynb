{
 "cells": [
  {
   "cell_type": "code",
   "execution_count": null,
   "outputs": [],
   "source": [
    "# 创建列表\n",
    "service = ['http','ssh','ftp']\n",
    "##用连接的方式\n",
    "print(service + ['firewalld'])   \n",
    "#append:追加一个元素到列表中\n",
    "service.append('firewalld')   \n",
    "print(service)    \n",
    "# extend:拉伸 追加多个元素到列表中  \n",
    "service.extend(['mysql','firewalld'])\n",
    "print(service)\n",
    "#在指定索引位置插入元素  ##在第二个元素的位置插入samba作为第二个元素\n",
    "service.insert(1,'samba') \n",
    "print(service)"
   ],
   "metadata": {
    "collapsed": false,
    "pycharm": {
     "name": "#%% 1.增加：往列表里增加元素:\n"
    }
   }
  },
  {
   "cell_type": "code",
   "execution_count": 22,
   "outputs": [
    {
     "name": "stdout",
     "text": [
      "ftp http\n['ssh', 'web']\nNone\n['web']\n"
     ],
     "output_type": "stream"
    },
    {
     "traceback": [
      "\u001b[1;31m---------------------------------------------------------------------------\u001b[0m",
      "\u001b[1;31mNameError\u001b[0m                                 Traceback (most recent call last)",
      "\u001b[1;32m<ipython-input-22-1fdf2ae2f077>\u001b[0m in \u001b[0;36m<module>\u001b[1;34m\u001b[0m\n\u001b[0;32m     13\u001b[0m \u001b[1;33m\u001b[0m\u001b[0m\n\u001b[0;32m     14\u001b[0m \u001b[1;32mdel\u001b[0m \u001b[0mservice\u001b[0m   \u001b[1;31m##直接删除整个列表\u001b[0m\u001b[1;33m\u001b[0m\u001b[1;33m\u001b[0m\u001b[0m\n\u001b[1;32m---> 15\u001b[1;33m \u001b[0mprint\u001b[0m\u001b[1;33m(\u001b[0m\u001b[0mservice\u001b[0m\u001b[1;33m)\u001b[0m\u001b[1;33m\u001b[0m\u001b[1;33m\u001b[0m\u001b[0m\n\u001b[0m",
      "\u001b[1;31mNameError\u001b[0m: name 'service' is not defined"
     ],
     "ename": "NameError",
     "evalue": "name 'service' is not defined",
     "output_type": "error"
    }
   ],
   "source": [
    "# 创建列表\n",
    "service = ['http','ssh','web','ftp']\n",
    "##弹出最后一个元素\n",
    "a1=service.pop()   \n",
    "a2 = service.pop(0)  ##弹出第1个元素  ###可以将其赋值\n",
    "print(a1,a2)\n",
    "print(service)\n",
    "##指定删除对象的名字  ##直接删除，不能将其赋值   ##不能指定序号，只能指定要删除对象的\n",
    "\n",
    "a3=service.remove('ssh') \n",
    "print(a3)\n",
    "print(service)\n",
    "\n",
    "del service   ##直接删除整个列表\n",
    "print(service)"
   ],
   "metadata": {
    "collapsed": false,
    "pycharm": {
     "name": "#%%2.删除：\n",
     "is_executing": false
    }
   }
  },
  {
   "cell_type": "code",
   "execution_count": 25,
   "outputs": [
    {
     "name": "stdout",
     "text": [
      "['mysql', 'ssh', 'ftp']\n['samba', 'iscsi', 'ftp']\n"
     ],
     "output_type": "stream"
    }
   ],
   "source": [
    "# 创建列表\n",
    "service = ['http','ssh','ftp']\n",
    "##通过索引 重新赋值\n",
    "service[0] = 'mysql'\n",
    "print(service)\n",
    "##通过切片给前两个元素重新赋值\n",
    "service[:2] = ['samba','iscsi']  \n",
    "print(service)"
   ],
   "metadata": {
    "collapsed": false,
    "pycharm": {
     "name": "#%%3.赋值：\n",
     "is_executing": false
    }
   }
  },
  {
   "cell_type": "code",
   "execution_count": 30,
   "outputs": [
    {
     "name": "stdout",
     "text": [
      "4\n2\n"
     ],
     "output_type": "stream"
    },
    {
     "data": {
      "text/plain": "1"
     },
     "metadata": {},
     "output_type": "execute_result",
     "execution_count": 30
    }
   ],
   "source": [
    "# 创建列表\n",
    "service = ['http','ssh','ssh','ftp']\n",
    "# 查看出现的次数\n",
    "print(len(service))\n",
    "print(service.count('ssh'))\n",
    "# 查看指定元素的索引值\n",
    "# 最小索引值\n",
    "service.index('ssh')    \n",
    "# 从1-3中查找【第二个元素和第三个元素之间】【不取上限】\n",
    "service.index('ssh',1,3)   "
   ],
   "metadata": {
    "collapsed": false,
    "pycharm": {
     "name": "#%%4.查看：\n",
     "is_executing": false
    }
   }
  },
  {
   "cell_type": "code",
   "execution_count": 40,
   "outputs": [
    {
     "name": "stdout",
     "text": [
      "['Bob', 'Harry', 'alice', 'coco']\n['alice', 'Bob', 'coco', 'Harry']\n['alice', 'Bob', 'coco', 'Harry']\n"
     ],
     "output_type": "stream"
    }
   ],
   "source": [
    "# sort 排序 对字符串排序不区分大小写\n",
    "names = ['alice','Bob','coco','Harry']\n",
    "# 按照ASCLL排序   ###先排序首字母为大写的，再排序首字母是小写的\n",
    "names.sort()\n",
    "print(names)      \n",
    "\n",
    "###对字符串排序不区分大小写，相当于将所有元素转换为小写，再排序\n",
    "names.sort(key=str.lower)\n",
    "print(names)\n",
    "###相当于将所有元素转换为大写，再排序\n",
    "names.sort(key=str.upper)   \n",
    "print(names)"
   ],
   "metadata": {
    "collapsed": false,
    "pycharm": {
     "name": "#%%5.排序：\n",
     "is_executing": false
    }
   }
  }
 ],
 "metadata": {
  "kernelspec": {
   "display_name": "Python 3",
   "language": "python",
   "name": "python3"
  },
  "language_info": {
   "codemirror_mode": {
    "name": "ipython",
    "version": 2
   },
   "file_extension": ".py",
   "mimetype": "text/x-python",
   "name": "python",
   "nbconvert_exporter": "python",
   "pygments_lexer": "ipython2",
   "version": "2.7.6"
  },
  "pycharm": {
   "stem_cell": {
    "cell_type": "raw",
    "source": [],
    "metadata": {
     "collapsed": false
    }
   }
  }
 },
 "nbformat": 4,
 "nbformat_minor": 0
}