{
 "cells": [
  {
   "cell_type": "code",
   "execution_count": 6,
   "metadata": {
    "collapsed": true,
    "pycharm": {
     "is_executing": false,
     "name": "#%% 方法一，就是用if, else语句来实现，比如:\n"
    }
   },
   "outputs": [
    {
     "name": "stdout",
     "text": [
      "0.5\n"
     ],
     "output_type": "stream"
    }
   ],
   "source": [
    "from __future__ import division \n",
    "def add(x, y): \n",
    "    return x + y  \n",
    "def sub(x, y): \n",
    "    return x - y  \n",
    "def mul(x, y): \n",
    "    return x * y  \n",
    "def div(x, y): \n",
    "    return x / y  \n",
    "def operator(x, y, sep='+'): \n",
    "    if   sep == '+': print(add(x, y))\n",
    "    elif sep == '-': print(sub(x, y))\n",
    "    elif sep == '*': print(mul(x, y)) \n",
    "    elif sep == '/': print(div(x, y))\n",
    "    else: print('Something Wrong') \n",
    "# print(__name__)\n",
    "if __name__ == '__main__': \n",
    "    x = int(input(\"Enter the 1st number: \")) \n",
    "    y = int(input(\"Enter the 2nd number: \")) \n",
    "    s = input(\"Enter operation here(+ - * /): \") \n",
    "    operator(x, y, s) "
   ]
  },
  {
   "cell_type": "code",
   "execution_count": 8,
   "outputs": [
    {
     "name": "stdout",
     "text": [
      "3\n"
     ],
     "output_type": "stream"
    }
   ],
   "source": [
    "from __future__ import division \n",
    "\n",
    "x = int(input(\"Enter the 1st number: \")) \n",
    "y = int(input(\"Enter the 2nd number: \"))  \n",
    "def operator(o): \n",
    "    dict_oper = { \n",
    "        '+': lambda x, y: x + y, \n",
    "        '-': lambda x, y: x - y, \n",
    "        '*': lambda x, y: x * y, \n",
    "        '/': lambda x, y: x / y}\n",
    "    #字典(Dictionary) get() 函数返回指定键的值，如果值不在字典中返回默认值。\n",
    "    return dict_oper.get(o)(x, y)\n",
    "\n",
    "if __name__ == '__main__':   \n",
    "    o = input(\"Enter operation here(+ - * /): \") \n",
    "    print(operator(o))"
   ],
   "metadata": {
    "collapsed": false,
    "pycharm": {
     "name": "#%%方法二，用字典来巧妙实现同样的功能\n",
     "is_executing": false
    }
   }
  }
 ],
 "metadata": {
  "kernelspec": {
   "display_name": "Python 3",
   "language": "python",
   "name": "python3"
  },
  "language_info": {
   "codemirror_mode": {
    "name": "ipython",
    "version": 2
   },
   "file_extension": ".py",
   "mimetype": "text/x-python",
   "name": "python",
   "nbconvert_exporter": "python",
   "pygments_lexer": "ipython2",
   "version": "2.7.6"
  },
  "pycharm": {
   "stem_cell": {
    "cell_type": "raw",
    "source": [],
    "metadata": {
     "collapsed": false
    }
   }
  }
 },
 "nbformat": 4,
 "nbformat_minor": 0
}