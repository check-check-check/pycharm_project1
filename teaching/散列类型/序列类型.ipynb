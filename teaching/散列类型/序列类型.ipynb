{
 "cells": [
  {
   "cell_type": "code",
   "execution_count": 1,
   "metadata": {
    "collapsed": true,
    "pycharm": {
     "is_executing": false,
     "name": "#%%你赋值元素个数和原来切片出来元素的个数不一样\n"
    }
   },
   "outputs": [
    {
     "name": "stdout",
     "text": [
      "['a', 'b', '1', '2', 'd', 'e', 'f', 'g']\n"
     ],
     "output_type": "stream"
    }
   ],
   "source": [
    "a = ['a','b','c','d','e','f','g']\n",
    "a[2:3] = ['1','2']\n",
    "print(a)"
   ]
  },
  {
   "cell_type": "code",
   "execution_count": 3,
   "outputs": [
    {
     "name": "stdout",
     "text": [
      "[1, 'hello', 3] 107557448 [1, 'hello', 3] 107557448\n"
     ],
     "output_type": "stream"
    }
   ],
   "source": [
    "'''\n",
    "对象赋值实际上是简单的对象引用。\n",
    "也就是说当你创建一个对象，然后把它赋给另一个变量的时候，\n",
    "Python 并没有拷贝这个对象，而是拷贝了这个对象的引用给变量。\n",
    "'''\n",
    "a=[1,2,3]\n",
    "b=a\n",
    "a[1]='hello'\n",
    "print(a,id(a),b,id(b))"
   ],
   "metadata": {
    "collapsed": false,
    "pycharm": {
     "name": "#%% 拷贝 Python 对象浅拷贝和深拷贝\n",
     "is_executing": false
    }
   }
  },
  {
   "cell_type": "code",
   "execution_count": 25,
   "outputs": [
    {
     "name": "stdout",
     "text": [
      "37718960 83725704 83725320\n37718960 83725704 83724744\n37718960 83725704 86755528\n['name', ['savings', 100]]  \n ['jack', ['savings', 100]] \n ['lucy', ['savings', 100]]\n37718960 83725704 83725320\n86868528 83725704 83724744\n86871024 83725704 86755528\n['name', ['savings', 60]]  \n ['jack', ['savings', 60]] \n ['lucy', ['savings', 60]]\n37718960 83725704 83725320\n86868528 83725704 83724744\n86871024 83725704 86755528\n"
     ],
     "output_type": "stream"
    }
   ],
   "source": [
    "person=['name',['savings',100]]\n",
    "hubby=person[:]#使用了切片操作\n",
    "wife=list(person)#另一种用了工厂方法\n",
    "for x in person,hubby,wife:\n",
    "    print(id(x[0]),id(x[1]),id(x))\n",
    "hubby[0]='jack'\n",
    "wife[0]='lucy'\n",
    "print(person,' \\n',hubby,'\\n',wife)\n",
    "for x in person,hubby,wife:\n",
    "    print(id(x[0]),id(x[1]),id(x))\n",
    "hubby[1][1]=50\n",
    "wife[1][1]=60\n",
    "print(person,' \\n',hubby,'\\n',wife)\n",
    "for x in person,hubby,wife:\n",
    "    print(id(x[0]),id(x[1]),id(x))\n",
    "'''原因是我们仅仅做了一个浅拷贝。\n",
    "对一个对象进行浅拷贝其实是新创建了一个类型跟原对象一样，\n",
    "其内容是原来对象内容的拷贝（其实都是原对象中元素的引用），\n",
    "换句话说，这个拷贝的对象本身是新的，但是它的内容不是。\n",
    "序列类型对象的浅拷贝是默认类型拷贝'''\n",
    "\n",
    "\n",
    "\n"
   ],
   "metadata": {
    "collapsed": false,
    "pycharm": {
     "name": "#%%\n",
     "is_executing": false
    }
   }
  }
 ],
 "metadata": {
  "kernelspec": {
   "display_name": "Python 3",
   "language": "python",
   "name": "python3"
  },
  "language_info": {
   "codemirror_mode": {
    "name": "ipython",
    "version": 2
   },
   "file_extension": ".py",
   "mimetype": "text/x-python",
   "name": "python",
   "nbconvert_exporter": "python",
   "pygments_lexer": "ipython2",
   "version": "2.7.6"
  },
  "pycharm": {
   "stem_cell": {
    "cell_type": "raw",
    "source": [],
    "metadata": {
     "collapsed": false
    }
   }
  }
 },
 "nbformat": 4,
 "nbformat_minor": 0
}