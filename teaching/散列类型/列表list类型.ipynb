{
 "cells": [
  {
   "cell_type": "code",
   "execution_count": 1,
   "metadata": {
    "collapsed": true,
    "pycharm": {
     "name": "#%%创建列表\n",
     "is_executing": false
    }
   },
   "outputs": [
    {
     "name": "stdout",
     "text": [
      "ssh\nftp\n"
     ],
     "output_type": "stream"
    }
   ],
   "source": [
    "service = ['http','ssh','ftp']\n",
    "# 1.1：索引\n",
    "print(service[1])    ##输出第二个元素，ssh\n",
    "print(service[-1])   ##输出最后一个元素，ftp\n"
   ]
  },
  {
   "cell_type": "code",
   "execution_count": 2,
   "outputs": [
    {
     "name": "stdout",
     "text": [
      "['ssh', 'ftp']\n['http', 'ssh']\n['ftp', 'ssh', 'http']\n"
     ],
     "output_type": "stream"
    }
   ],
   "source": [
    "print(service[1:])   ##打印第一个元素之后的内容\n",
    "print(service[:-1])  ##打印最后一个元素之前的内容\n",
    "print(service[::-1])  ##倒序输出"
   ],
   "metadata": {
    "collapsed": false,
    "pycharm": {
     "name": "#%%1.2：切片\n",
     "is_executing": false
    }
   }
  },
  {
   "cell_type": "code",
   "execution_count": 3,
   "outputs": [
    {
     "name": "stdout",
     "text": [
      "['http', 'ssh', 'ftp', 'http', 'ssh', 'ftp', 'http', 'ssh', 'ftp']\n"
     ],
     "output_type": "stream"
    }
   ],
   "source": [
    "print(service * 3)   ##输出三遍"
   ],
   "metadata": {
    "collapsed": false,
    "pycharm": {
     "name": "#%%1.3：重复\n",
     "is_executing": false
    }
   }
  },
  {
   "cell_type": "code",
   "execution_count": 4,
   "outputs": [
    {
     "name": "stdout",
     "text": [
      "['http', 'ssh', 'ftp', 'nfs', 'samba']\n"
     ],
     "output_type": "stream"
    }
   ],
   "source": [
    "service1 = ['nfs','samba']\n",
    "print(service + service1)"
   ],
   "metadata": {
    "collapsed": false,
    "pycharm": {
     "name": "#%%1.4：连接\n",
     "is_executing": false
    }
   }
  },
  {
   "cell_type": "code",
   "execution_count": 6,
   "outputs": [
    {
     "name": "stdout",
     "text": [
      "False\n"
     ],
     "output_type": "stream"
    }
   ],
   "source": [
    "print('htt' in service)"
   ],
   "metadata": {
    "collapsed": false,
    "pycharm": {
     "name": "#%%1.5：成员操作赋\n",
     "is_executing": false
    }
   }
  },
  {
   "cell_type": "code",
   "execution_count": 7,
   "outputs": [
    {
     "name": "stdout",
     "text": [
      "http\nssh\nftp\n"
     ],
     "output_type": "stream"
    }
   ],
   "source": [
    "for i in service:\n",
    "    print(i)"
   ],
   "metadata": {
    "collapsed": false,
    "pycharm": {
     "name": "#%%1.6：迭代:[for循环遍历]\n",
     "is_executing": false
    }
   }
  },
  {
   "cell_type": "code",
   "execution_count": 8,
   "outputs": [
    {
     "name": "stdout",
     "text": [
      "tony\n[1, 2, 3]\n"
     ],
     "output_type": "stream"
    }
   ],
   "source": [
    "service2 = [['abc','def','www'],[1,2,3],['mike','tony','sun']]\n",
    "print(service2[2][1])   ##第三个元素中的第二个元素\n",
    "print(service2[:][1])   ##第二个元素"
   ],
   "metadata": {
    "collapsed": false,
    "pycharm": {
     "name": "#%%1.7列表里嵌套列表\n",
     "is_executing": false
    }
   }
  },
  {
   "cell_type": "code",
   "execution_count": null,
   "outputs": [],
   "source": [
    "\n"
   ],
   "metadata": {
    "collapsed": false,
    "pycharm": {
     "name": "#%%\n"
    }
   }
  }
 ],
 "metadata": {
  "kernelspec": {
   "display_name": "Python 3",
   "language": "python",
   "name": "python3"
  },
  "language_info": {
   "codemirror_mode": {
    "name": "ipython",
    "version": 2
   },
   "file_extension": ".py",
   "mimetype": "text/x-python",
   "name": "python",
   "nbconvert_exporter": "python",
   "pygments_lexer": "ipython2",
   "version": "2.7.6"
  },
  "pycharm": {
   "stem_cell": {
    "cell_type": "raw",
    "source": [],
    "metadata": {
     "collapsed": false
    }
   }
  }
 },
 "nbformat": 4,
 "nbformat_minor": 0
}