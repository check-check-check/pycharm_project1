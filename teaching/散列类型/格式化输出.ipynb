{
 "cells": [
  {
   "cell_type": "code",
   "execution_count": 4,
   "metadata": {
    "collapsed": true,
    "pycharm": {
     "is_executing": false
    }
   },
   "outputs": [],
   "source": [
    "name = input(\"name:\")\n",
    "age = int(input(\"age:\") ) #integer\n",
    "job = input(\"job:\")\n",
    "salary  = input(\"salary:\")\n",
    "info = '''\n",
    "-------- info of  %s  -----\n",
    "Name:%s\n",
    "Age:%d\n",
    "Job:%s\n",
    "Salary:%s\n",
    "''' % (name,name,age,job,salary)\n",
    "\n",
    "info2 = '''\n",
    "-------- info of {_name}  -----\n",
    "Name:{_name}\n",
    "Age:{_age}\n",
    "Job:{_job}\n",
    "Salary:{_salary}\n",
    "'''.format(_name=name,\n",
    "           _age=age,\n",
    "           _job=job,\n",
    "           _salary=salary)\n",
    "info3 =  '''\n",
    "-------- info of {0} -----\n",
    "Name:{0}\n",
    "Age:{1}\n",
    "Job:{2}\n",
    "Salary:{3}\n",
    "'''.format(name,age,job,salary)"
   ]
  },
  {
   "cell_type": "code",
   "execution_count": 5,
   "outputs": [
    {
     "name": "stdout",
     "text": [
      "\n-------- info of  chen  -----\nName:chen\nAge:12\nJob:stu\nSalary:12\n\n\n-------- info of chen  -----\nName:chen\nAge:12\nJob:stu\nSalary:12\n\n\n-------- info of chen -----\nName:chen\nAge:12\nJob:stu\nSalary:12\n\n"
     ],
     "output_type": "stream"
    }
   ],
   "source": [
    "print(info)\n",
    "print(info2)\n",
    "print(info3)"
   ],
   "metadata": {
    "collapsed": false,
    "pycharm": {
     "name": "#%%\n",
     "is_executing": false
    }
   }
  },
  {
   "cell_type": "code",
   "execution_count": null,
   "outputs": [],
   "source": [
    "\n"
   ],
   "metadata": {
    "collapsed": false,
    "pycharm": {
     "name": "#%%\n"
    }
   }
  }
 ],
 "metadata": {
  "kernelspec": {
   "display_name": "Python 3",
   "language": "python",
   "name": "python3"
  },
  "language_info": {
   "codemirror_mode": {
    "name": "ipython",
    "version": 2
   },
   "file_extension": ".py",
   "mimetype": "text/x-python",
   "name": "python",
   "nbconvert_exporter": "python",
   "pygments_lexer": "ipython2",
   "version": "2.7.6"
  },
  "pycharm": {
   "stem_cell": {
    "cell_type": "raw",
    "source": [],
    "metadata": {
     "collapsed": false
    }
   }
  }
 },
 "nbformat": 4,
 "nbformat_minor": 0
}