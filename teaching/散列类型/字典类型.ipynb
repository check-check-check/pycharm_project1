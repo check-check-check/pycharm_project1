{
 "cells": [
  {
   "cell_type": "code",
   "execution_count": 17,
   "metadata": {
    "collapsed": true,
    "pycharm": {
     "name": "#%%创建字典的五种方法\n",
     "is_executing": false
    }
   },
   "outputs": [
    {
     "name": "stdout",
     "text": [
      "{'name': 'Bob', 'age': 40}\n{'name': 'Bob', 'age': 40}\n{'name': 'Bob', 'age': 45}\n{'name': 'Bob', 'age': 40}\n{'name': 'bob', 'age': 40}\n{'A': 0, 'B': 0}\n{'A': None, 'B': None}\n"
     ],
     "output_type": "stream"
    }
   ],
   "source": [
    "#方法一: 常规方法 .如果事先能拼出整个字典，则此方法比较方便\n",
    "D1 = {'name':'Bob','age':40} \n",
    "print(D1)\n",
    "#方法二: 动态创建.如果需要动态地建立字典的一个字段，则此方法比较方便\n",
    "D2 = {} \n",
    "D2['name'] = 'Bob' \n",
    "D2['age']  =  40 \n",
    "print(D2)\n",
    "# 方法三:  dict--关键字形式 \n",
    "# 代码比较少，但键必须为字符串型。常用于函数赋值\n",
    "D3 = dict(name='Bob',age=45) \n",
    "print(D3)\n",
    "# 方法四: dict--键值序列\n",
    "# 如果需要将键值逐步建成序列，则此方式比较有用,常与zip函数一起使用\n",
    "D4 = dict([('name','Bob'),('age',40)]) \n",
    "print(D4)\n",
    "D4 = dict(zip(('name','age'),('bob',40)))\n",
    "print(D4)\n",
    "# 方法五: dict--fromkeys方法\n",
    "# 如果键的值都相同的话,用这种方式比较好，并可以用fromkeys来初始化\n",
    "D5 = dict.fromkeys(['A','B'],0) \n",
    "print(D5)\n",
    "# 如果键的值没提供的话，默认为None\n",
    "D5 = dict.fromkeys(['A','B']) \n",
    "print(D5)"
   ]
  },
  {
   "cell_type": "code",
   "execution_count": 7,
   "outputs": [
    {
     "name": "stdout",
     "text": [
      "102517960\n[(1, 4), (2, 5), (3, 6)]\n102517960\n{1: 4, 2: 5, 3: 6}\n"
     ],
     "output_type": "stream"
    }
   ],
   "source": [
    "lt1=[1,2,3]\n",
    "lt2=[4,5,6]\n",
    "lt3=zip(lt1,lt2)\n",
    "#zip()是可迭代对象，使用时必须将其包含在一个list中，方便一次性显示出所有结果\n",
    "print(id(lt3))\n",
    "print(list(lt3))\n",
    "print(id(lt3))\n",
    "lt3=zip(lt1,lt2)\n",
    "print(dict(lt3))"
   ],
   "metadata": {
    "collapsed": false,
    "pycharm": {
     "name": "#%%zip函数--使用zip()函数来可以把列表合并，并创建一个元组对的列表\n",
     "is_executing": false
    }
   }
  },
  {
   "cell_type": "code",
   "execution_count": 38,
   "outputs": [
    {
     "name": "stdout",
     "text": [
      "{'name': 'dd', 'age': '18', 'height': '183'}\n"
     ],
     "output_type": "stream"
    }
   ],
   "source": [
    "lt4=['dd','18','183']\n",
    "lt5=['name','age','height']\n",
    "a=zip(lt5,lt4)\n",
    "print(dict(a))"
   ],
   "metadata": {
    "collapsed": false,
    "pycharm": {
     "name": "#%%\n",
     "is_executing": false
    }
   }
  },
  {
   "cell_type": "code",
   "execution_count": 51,
   "outputs": [
    {
     "name": "stdout",
     "text": [
      "x 1\ny 2\nz 3\nx 1\ny 2\nz 3\n1\n2\n3\n"
     ],
     "output_type": "stream"
    }
   ],
   "source": [
    "#方法1\n",
    "D = {'x':1, 'y':2, 'z':3}\n",
    "for key in D:\n",
    "    print(key,D[key])\n",
    "#方法2 \n",
    "# 字典items()方法以列表返回可遍历的(键, 值) 元组数组\n",
    "for key, value in D.items():\n",
    "    print(key, value)  \n",
    "#方法3\n",
    "# iterkeys方法已经被废除\n",
    "# for key in D.iterkeys():\n",
    "#     print(key,D[key])\n",
    "#方法4\n",
    "for value in D.values(): \n",
    "    print(value)\n",
    "#方法5\n",
    "# iteritems方法已经被废除\n",
    "# for key, value in D.iteritems():\n",
    "#     print(key, value)"
   ],
   "metadata": {
    "collapsed": false,
    "pycharm": {
     "name": "#%% 字典中键值遍历方法\n",
     "is_executing": false
    }
   }
  },
  {
   "cell_type": "code",
   "execution_count": null,
   "outputs": [],
   "source": [],
   "metadata": {
    "collapsed": false,
    "pycharm": {
     "name": "#%%\n"
    }
   }
  }
 ],
 "metadata": {
  "kernelspec": {
   "display_name": "Python 3",
   "language": "python",
   "name": "python3"
  },
  "language_info": {
   "codemirror_mode": {
    "name": "ipython",
    "version": 2
   },
   "file_extension": ".py",
   "mimetype": "text/x-python",
   "name": "python",
   "nbconvert_exporter": "python",
   "pygments_lexer": "ipython2",
   "version": "2.7.6"
  },
  "pycharm": {
   "stem_cell": {
    "cell_type": "raw",
    "source": [],
    "metadata": {
     "collapsed": false
    }
   }
  }
 },
 "nbformat": 4,
 "nbformat_minor": 0
}