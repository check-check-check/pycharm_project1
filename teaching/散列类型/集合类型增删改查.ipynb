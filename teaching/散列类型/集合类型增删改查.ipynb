{
 "cells": [
  {
   "cell_type": "code",
   "execution_count": 19,
   "metadata": {
    "collapsed": true,
    "pycharm": {
     "is_executing": false,
     "name": "#%%\n"
    }
   },
   "outputs": [
    {
     "name": "stdout",
     "text": [
      "{'d', 's'}\n{'abbcc', 'bbcce', 'deeff'}\n"
     ],
     "output_type": "stream"
    }
   ],
   "source": [
    "name = set('sdd')\n",
    "print(name)\n",
    "set1=set(['abbcc','bbcce','deeff'])\n",
    "print(set1)"
   ]
  },
  {
   "cell_type": "code",
   "execution_count": 10,
   "outputs": [
    {
     "name": "stdout",
     "text": [
      "{'d', 's'}\n{'d', 's', 'sd'}\n"
     ],
     "output_type": "stream"
    }
   ],
   "source": [
    "name = {'d', 's'}\n",
    "name.add('d')\n",
    "print(name)\n",
    "# 返回结果：{'d', 's'}\n",
    "name.add('sd')\n",
    "print(name)\n",
    "# 返回结果：{'sd', 'd', 's'}"
   ],
   "metadata": {
    "collapsed": false,
    "pycharm": {
     "name": "#%% add--功能：增加集合元素\n",
     "is_executing": false
    }
   }
  },
  {
   "cell_type": "code",
   "execution_count": 11,
   "outputs": [
    {
     "name": "stdout",
     "text": [
      "set()\n"
     ],
     "output_type": "stream"
    }
   ],
   "source": [
    "name = {'d', 's'}\n",
    "name.clear()\n",
    "print(name)\n",
    "# 返回结果：{}"
   ],
   "metadata": {
    "collapsed": false,
    "pycharm": {
     "name": "#%%clear--功能：清空集合元素\n",
     "is_executing": false
    }
   }
  },
  {
   "cell_type": "code",
   "execution_count": 22,
   "outputs": [
    {
     "name": "stdout",
     "text": [
      "{'d', 's', 'sd'}\n"
     ],
     "output_type": "stream"
    }
   ],
   "source": [
    "name = {'sd', 'd', 's'}\n",
    "li = name.copy()\n",
    "print(li)"
   ],
   "metadata": {
    "collapsed": false,
    "pycharm": {
     "name": "#%%copy--功能：浅拷贝\n",
     "is_executing": false
    }
   }
  },
  {
   "cell_type": "code",
   "execution_count": 23,
   "outputs": [
    {
     "name": "stdout",
     "text": [
      "set()\n{'d', 's', 'sd'}\n"
     ],
     "output_type": "stream"
    }
   ],
   "source": [
    "diff001=name.difference(li)\n",
    "print(diff001)\n",
    "diff002=name.difference()\n",
    "print(diff002)\n"
   ],
   "metadata": {
    "collapsed": false,
    "pycharm": {
     "name": "#%%difference--求差集\n",
     "is_executing": false
    }
   }
  },
  {
   "cell_type": "code",
   "execution_count": 28,
   "outputs": [
    {
     "name": "stdout",
     "text": [
      "{'zhou', 123}\n{'zhou', 123}\n"
     ],
     "output_type": "stream"
    }
   ],
   "source": [
    "set1=set(['wang','li','zhou',123])\n",
    "set2={'wang','123','hu'}\n",
    "set3={'li','han'}\n",
    "print(set1.difference(set2,set3))\n",
    "print(set1-set2-set3)"
   ],
   "metadata": {
    "collapsed": false,
    "pycharm": {
     "name": "#%%difference--求差集\n",
     "is_executing": false
    }
   }
  },
  {
   "cell_type": "code",
   "execution_count": 31,
   "outputs": [
    {
     "name": "stdout",
     "text": [
      "{'sd'}\n"
     ],
     "output_type": "stream"
    }
   ],
   "source": [
    "li = ('s', 'd')\n",
    "name = {'sd', 'd', 's'}\n",
    "name.difference_update(li)\n",
    "print(name)\n",
    "# 返回结果：{'sd'}"
   ],
   "metadata": {
    "collapsed": false,
    "pycharm": {
     "name": "#%%difference_update功能：删除当前set中的所有包含在 new set 里的元素\n",
     "is_executing": false
    }
   }
  },
  {
   "cell_type": "code",
   "execution_count": 32,
   "outputs": [
    {
     "name": "stdout",
     "text": [
      "None\n"
     ],
     "output_type": "stream"
    }
   ],
   "source": [
    "name = {'sd', 'd', 's'}\n",
    "print(name.discard('s'))\n",
    "# 返回结果：name：{'sd', 'd'}"
   ],
   "metadata": {
    "collapsed": false,
    "pycharm": {
     "name": "#%%discard功能：移除元素\n",
     "is_executing": false
    }
   }
  },
  {
   "cell_type": "code",
   "execution_count": 42,
   "outputs": [
    {
     "name": "stdout",
     "text": [
      "{'d', 's'}\n{'d', 's', 'sd'}\n"
     ],
     "output_type": "stream"
    }
   ],
   "source": [
    "li = ('s', 'd')\n",
    "name = {'sd', 'd', 's'}\n",
    "print(name.intersection(li))\n",
    "print(name)\n",
    "# 返回结果：{'d', 's'}"
   ],
   "metadata": {
    "collapsed": false,
    "pycharm": {
     "name": "#%%intersection功能：取交集,建立新的set集合\n",
     "is_executing": false
    }
   }
  },
  {
   "cell_type": "code",
   "execution_count": 43,
   "outputs": [
    {
     "name": "stdout",
     "text": [
      "{'d', 's'}\n"
     ],
     "output_type": "stream"
    }
   ],
   "source": [
    "li = ('s', 'd')\n",
    "name = {'sd', 'd', 's'}\n",
    "name.intersection_update(li)\n",
    "print(name)\n",
    "# 返回结果：{'d', 's'}"
   ],
   "metadata": {
    "collapsed": false,
    "pycharm": {
     "name": "#%%intersection_update功能：取交集,更新原来的set集合\n",
     "is_executing": false
    }
   }
  },
  {
   "cell_type": "code",
   "execution_count": 45,
   "outputs": [
    {
     "name": "stdout",
     "text": [
      "False\n"
     ],
     "output_type": "stream"
    }
   ],
   "source": [
    "li = {'s', 'd'}\n",
    "name = {'sd', 'd', 's'}\n",
    "print(name.isdisjoint(li))"
   ],
   "metadata": {
    "collapsed": false,
    "pycharm": {
     "name": "#%%isdisjoint 功能：没有交集，返回True,否则,返回False\n",
     "is_executing": false
    }
   }
  },
  {
   "cell_type": "code",
   "execution_count": 46,
   "outputs": [
    {
     "name": "stdout",
     "text": [
      "False\nTrue\n"
     ],
     "output_type": "stream"
    }
   ],
   "source": [
    "li = {'s', 'd'}\n",
    "name = {'sd', 'd', 's'}\n",
    "print(name.issubset(li))  #判断name是不是li的子集\n",
    "# 返回结果：False\n",
    "print(li.issubset(name))  #判断li是不是name的子集\n",
    "# 返回结果：True"
   ],
   "metadata": {
    "collapsed": false,
    "pycharm": {
     "name": "#%%issubset功能：判断是否是子集\n",
     "is_executing": false
    }
   }
  },
  {
   "cell_type": "code",
   "execution_count": 47,
   "outputs": [
    {
     "name": "stdout",
     "text": [
      "True\nFalse\n"
     ],
     "output_type": "stream"
    }
   ],
   "source": [
    "li = {'s', 'd'}\n",
    "name = {'sd', 'd', 's'}\n",
    "print(name.issuperset(li))  #判断name是不是li的父集\n",
    "# 返回结果：True\n",
    "print(li.issuperset(name))  #判断li是不是name的父集\n",
    "# 返回结果：False"
   ],
   "metadata": {
    "collapsed": false,
    "pycharm": {
     "name": "#%%issuperset功能：判断是否是父集\n",
     "is_executing": false
    }
   }
  },
  {
   "cell_type": "code",
   "execution_count": 70,
   "outputs": [
    {
     "name": "stdout",
     "text": [
      "d\ns\n"
     ],
     "output_type": "stream"
    }
   ],
   "source": [
    "#这个函数随机返回一个元素值，然后把这个值删除，如果set为空，调用这个函数会返回Key错误\n",
    "name = {'sd', 'd', 's'}\n",
    "print(name.pop()) \n",
    "se1 = {'a','s','sb'}\n",
    "print(se1.pop())"
   ],
   "metadata": {
    "collapsed": false,
    "pycharm": {
     "name": "#%%pop功能：用于随机移除一个元素\n",
     "is_executing": false
    }
   }
  },
  {
   "cell_type": "code",
   "execution_count": 75,
   "outputs": [
    {
     "name": "stdout",
     "text": [
      "None\n{'d', 'sd'}\n"
     ],
     "output_type": "stream"
    }
   ],
   "source": [
    "name = {'sd','d','s'}\n",
    "print(name.remove('s'))\n",
    "print(name)\n",
    "# 返回结果：name:{'sd', 'd'}"
   ],
   "metadata": {
    "collapsed": false,
    "pycharm": {
     "name": "#%%remove功能：移除指定集合元素\n",
     "is_executing": false
    }
   }
  },
  {
   "cell_type": "code",
   "execution_count": 76,
   "outputs": [
    {
     "name": "stdout",
     "text": [
      "{'sd'}\n"
     ],
     "output_type": "stream"
    }
   ],
   "source": [
    "#功能：去两个集合的差集，建立新的set集合对象\n",
    "name = {'sd', 'd', 's'}\n",
    "li = {'s', 'd'}\n",
    "print(name.symmetric_difference(li))\n",
    "# 返回结果：{'sd'}"
   ],
   "metadata": {
    "collapsed": false,
    "pycharm": {
     "name": "#%%symmetric_difference\n",
     "is_executing": false
    }
   }
  },
  {
   "cell_type": "code",
   "execution_count": 78,
   "outputs": [
    {
     "name": "stdout",
     "text": [
      "None\n{'sd'}\n"
     ],
     "output_type": "stream"
    }
   ],
   "source": [
    "#功能：去两个集合的差集，更新原来的集合对象\n",
    "name = {'sd', 'd', 's'}\n",
    "li = {'s', 'd'}\n",
    "print(name.symmetric_difference_update(li))\n",
    "print(name)\n",
    "# 返回结果：{'sd'}"
   ],
   "metadata": {
    "collapsed": false,
    "pycharm": {
     "name": "#%%symmetric_difference_update\n",
     "is_executing": false
    }
   }
  },
  {
   "cell_type": "code",
   "execution_count": 79,
   "outputs": [
    {
     "name": "stdout",
     "text": [
      "{'s', 'd', 'h', 'sd'}\n"
     ],
     "output_type": "stream"
    }
   ],
   "source": [
    "name = {'sd', 'd', 's'}\n",
    "li = {'s', 'd','h'}\n",
    "print(name.union(li))\n",
    "# 返回结果：{'h', 's', 'd', 'sd'}"
   ],
   "metadata": {
    "collapsed": false,
    "pycharm": {
     "name": "#%%union功能：并集，创建新的对象\n",
     "is_executing": false
    }
   }
  },
  {
   "cell_type": "code",
   "execution_count": 81,
   "outputs": [
    {
     "name": "stdout",
     "text": [
      "{'d', 's', 'f', 'sd'}\n"
     ],
     "output_type": "stream"
    }
   ],
   "source": [
    "name = {'sd', 'd', 's'}\n",
    "name.update('df')\n",
    "print(name)\n",
    "# 返回结果：{'sd', 'd', 'f', 's'}"
   ],
   "metadata": {
    "collapsed": false,
    "pycharm": {
     "name": "#%%update功能：更新已有集合\n",
     "is_executing": false
    }
   }
  },
  {
   "cell_type": "code",
   "execution_count": 85,
   "outputs": [
    {
     "name": "stdout",
     "text": [
      "4\nTrue\nFalse\n"
     ],
     "output_type": "stream"
    }
   ],
   "source": [
    "print(len(name))\n",
    "print('s' in name)\n",
    "print('s' not in name)\n",
    "\n"
   ],
   "metadata": {
    "collapsed": false,
    "pycharm": {
     "name": "#%%\n",
     "is_executing": false
    }
   }
  }
 ],
 "metadata": {
  "kernelspec": {
   "display_name": "Python 3",
   "language": "python",
   "name": "python3"
  },
  "language_info": {
   "codemirror_mode": {
    "name": "ipython",
    "version": 2
   },
   "file_extension": ".py",
   "mimetype": "text/x-python",
   "name": "python",
   "nbconvert_exporter": "python",
   "pygments_lexer": "ipython2",
   "version": "2.7.6"
  },
  "pycharm": {
   "stem_cell": {
    "cell_type": "raw",
    "source": [],
    "metadata": {
     "collapsed": false
    }
   }
  }
 },
 "nbformat": 4,
 "nbformat_minor": 0
}